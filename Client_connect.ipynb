{
 "cells": [
  {
   "cell_type": "code",
   "execution_count": 23,
   "id": "87d28011-6c82-4f00-95d3-9d4e0d1412ae",
   "metadata": {},
   "outputs": [],
   "source": [
    "import mysql.connector as connector\n",
    "connection = connector.connect(user = \"root\", password = \"my_password\", db = \"littlelemondb\") \n"
   ]
  },
  {
   "cell_type": "code",
   "execution_count": 30,
   "id": "9723bcfc-e7fb-4db5-92db-d54e2f8a7ea5",
   "metadata": {},
   "outputs": [
    {
     "name": "stdout",
     "output_type": "stream",
     "text": [
      "('bookings',)\n",
      "('customers',)\n",
      "('delivery_status',)\n",
      "('menuitems',)\n",
      "('menus',)\n",
      "('orders',)\n",
      "('ordersview',)\n",
      "('staff',)\n"
     ]
    }
   ],
   "source": [
    "if cursor.with_rows:\n",
    "    cursor.fetchall()\n",
    "show_tables_query = \"\"\" SHOW TABLES \"\"\"\n",
    "cursor.execute(show_tables_query)\n",
    "tables = cursor.fetchall()\n",
    "for table in tables:\n",
    "    print(table)"
   ]
  },
  {
   "cell_type": "code",
   "execution_count": 36,
   "id": "2e089dff-f422-4d87-a3e1-6309bb805f50",
   "metadata": {},
   "outputs": [
    {
     "name": "stdout",
     "output_type": "stream",
     "text": [
      "('CustomerID', 'FirstName', 'LastName', 'ContactNumber', 'Email')\n",
      "(1, 'John', 'Doe', '555-0101', 'john.doe@email.com')\n",
      "(3, 'Robert', 'Johnson', '555-0103', 'robert.j@email.com')\n",
      "(5, 'James', 'Wilson', '555-0105', 'james.w@email.com')\n"
     ]
    }
   ],
   "source": [
    "if cursor.with_rows:\n",
    "    cursor.fetchall()\n",
    "customer_campagn_query = \"\"\"SELECT customers.CustomerID,\n",
    "Customers.FirstName, Customers.LastName, customers.ContactNumber, customers.Email\n",
    "\tFROM customers\n",
    "\tINNER JOIN Orders ON Customers.CustomerID = Orders.CustomerID\n",
    "\tWHERE TotalCost > 60 \"\"\"\n",
    "cursor.execute(customer_campagn_query)\n",
    "col = cursor.column_names\n",
    "tables = cursor.fetchall()\n",
    "print(col)\n",
    "for table in tables:\n",
    "    print(table)"
   ]
  },
  {
   "cell_type": "code",
   "execution_count": null,
   "id": "44d9fa96-4856-4e87-b935-71ab21fbaecb",
   "metadata": {},
   "outputs": [],
   "source": []
  }
 ],
 "metadata": {
  "kernelspec": {
   "display_name": "Python 3 (ipykernel)",
   "language": "python",
   "name": "python3"
  },
  "language_info": {
   "codemirror_mode": {
    "name": "ipython",
    "version": 3
   },
   "file_extension": ".py",
   "mimetype": "text/x-python",
   "name": "python",
   "nbconvert_exporter": "python",
   "pygments_lexer": "ipython3",
   "version": "3.10.0"
  }
 },
 "nbformat": 4,
 "nbformat_minor": 5
}
